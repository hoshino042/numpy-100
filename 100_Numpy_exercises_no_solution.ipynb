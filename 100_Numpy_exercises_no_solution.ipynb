{
 "cells": [
  {
   "cell_type": "markdown",
   "metadata": {},
   "source": [
    "# 100 numpy exercises\n",
    "\n",
    "This is a collection of exercises that have been collected in the numpy mailing list, on stack overflow and in the numpy documentation. The goal of this collection is to offer a quick reference for both old and new users but also to provide a set of exercises for those who teach.\n",
    "\n",
    "\n",
    "If you find an error or think you've a better way to solve some of them, feel free to open an issue at <https://github.com/rougier/numpy-100>"
   ]
  },
  {
   "cell_type": "markdown",
   "metadata": {},
   "source": [
    "#### 1. Import the numpy package under the name `np` (★☆☆)"
   ]
  },
  {
   "cell_type": "code",
   "execution_count": 1,
   "metadata": {},
   "outputs": [],
   "source": [
    "import numpy as np"
   ]
  },
  {
   "cell_type": "markdown",
   "metadata": {},
   "source": [
    "#### 2. Print the numpy version and the configuration (★☆☆)"
   ]
  },
  {
   "cell_type": "code",
   "execution_count": 2,
   "metadata": {},
   "outputs": [
    {
     "name": "stdout",
     "output_type": "stream",
     "text": [
      "1.16.2\n",
      "mkl_info:\n",
      "    libraries = ['mkl_rt', 'pthread']\n",
      "    library_dirs = ['/home/hoshino/anaconda3/lib']\n",
      "    define_macros = [('SCIPY_MKL_H', None), ('HAVE_CBLAS', None)]\n",
      "    include_dirs = ['/home/hoshino/anaconda3/include']\n",
      "blas_mkl_info:\n",
      "    libraries = ['mkl_rt', 'pthread']\n",
      "    library_dirs = ['/home/hoshino/anaconda3/lib']\n",
      "    define_macros = [('SCIPY_MKL_H', None), ('HAVE_CBLAS', None)]\n",
      "    include_dirs = ['/home/hoshino/anaconda3/include']\n",
      "blas_opt_info:\n",
      "    libraries = ['mkl_rt', 'pthread']\n",
      "    library_dirs = ['/home/hoshino/anaconda3/lib']\n",
      "    define_macros = [('SCIPY_MKL_H', None), ('HAVE_CBLAS', None)]\n",
      "    include_dirs = ['/home/hoshino/anaconda3/include']\n",
      "lapack_mkl_info:\n",
      "    libraries = ['mkl_rt', 'pthread']\n",
      "    library_dirs = ['/home/hoshino/anaconda3/lib']\n",
      "    define_macros = [('SCIPY_MKL_H', None), ('HAVE_CBLAS', None)]\n",
      "    include_dirs = ['/home/hoshino/anaconda3/include']\n",
      "lapack_opt_info:\n",
      "    libraries = ['mkl_rt', 'pthread']\n",
      "    library_dirs = ['/home/hoshino/anaconda3/lib']\n",
      "    define_macros = [('SCIPY_MKL_H', None), ('HAVE_CBLAS', None)]\n",
      "    include_dirs = ['/home/hoshino/anaconda3/include']\n"
     ]
    }
   ],
   "source": [
    "print(np.__version__)\n",
    "np.show_config()"
   ]
  },
  {
   "cell_type": "markdown",
   "metadata": {},
   "source": [
    "#### 3. Create a null vector of size 10 (★☆☆)"
   ]
  },
  {
   "cell_type": "code",
   "execution_count": 44,
   "metadata": {},
   "outputs": [],
   "source": [
    "a = np.zeros((10))"
   ]
  },
  {
   "cell_type": "markdown",
   "metadata": {},
   "source": [
    "#### 4.  How to find the memory size of any array (★☆☆)"
   ]
  },
  {
   "cell_type": "code",
   "execution_count": 46,
   "metadata": {},
   "outputs": [
    {
     "data": {
      "text/plain": [
       "80"
      ]
     },
     "execution_count": 46,
     "metadata": {},
     "output_type": "execute_result"
    }
   ],
   "source": [
    "a.nbytes"
   ]
  },
  {
   "cell_type": "markdown",
   "metadata": {},
   "source": [
    "#### 5.  How to get the documentation of the numpy add function from the command line? (★☆☆)"
   ]
  },
  {
   "cell_type": "code",
   "execution_count": null,
   "metadata": {
    "collapsed": true
   },
   "outputs": [],
   "source": []
  },
  {
   "cell_type": "markdown",
   "metadata": {},
   "source": [
    "#### 6.  Create a null vector of size 10 but the fifth value which is 1 (★☆☆)"
   ]
  },
  {
   "cell_type": "code",
   "execution_count": 51,
   "metadata": {},
   "outputs": [],
   "source": []
  },
  {
   "cell_type": "markdown",
   "metadata": {},
   "source": [
    "#### 7.  Create a vector with values ranging from 10 to 49 (★☆☆)"
   ]
  },
  {
   "cell_type": "code",
   "execution_count": 11,
   "metadata": {},
   "outputs": [
    {
     "data": {
      "text/plain": [
       "array([10, 11, 12, 13, 14, 15, 16, 17, 18, 19, 20, 21, 22, 23, 24, 25, 26,\n",
       "       27, 28, 29, 30, 31, 32, 33, 34, 35, 36, 37, 38, 39, 40, 41, 42, 43,\n",
       "       44, 45, 46, 47, 48, 49])"
      ]
     },
     "execution_count": 11,
     "metadata": {},
     "output_type": "execute_result"
    }
   ],
   "source": [
    "np.arange(10, 50)"
   ]
  },
  {
   "cell_type": "markdown",
   "metadata": {},
   "source": [
    "#### 8.  Reverse a vector (first element becomes last) (★☆☆)"
   ]
  },
  {
   "cell_type": "code",
   "execution_count": 13,
   "metadata": {},
   "outputs": [
    {
     "data": {
      "text/plain": [
       "array([49, 48, 47, 46, 45, 44, 43, 42, 41, 40, 39, 38, 37, 36, 35, 34, 33,\n",
       "       32, 31, 30, 29, 28, 27, 26, 25, 24, 23, 22, 21, 20, 19, 18, 17, 16,\n",
       "       15, 14, 13, 12, 11, 10])"
      ]
     },
     "execution_count": 13,
     "metadata": {},
     "output_type": "execute_result"
    }
   ],
   "source": [
    "a = np.arange(10, 50)\n",
    "a[::-1]"
   ]
  },
  {
   "cell_type": "markdown",
   "metadata": {},
   "source": [
    "#### 9.  Create a 3x3 matrix with values ranging from 0 to 8 (★☆☆)"
   ]
  },
  {
   "cell_type": "code",
   "execution_count": 14,
   "metadata": {},
   "outputs": [
    {
     "data": {
      "text/plain": [
       "array([[0, 1, 2],\n",
       "       [3, 4, 5],\n",
       "       [6, 7, 8]])"
      ]
     },
     "execution_count": 14,
     "metadata": {},
     "output_type": "execute_result"
    }
   ],
   "source": [
    "np.arange(9).reshape((3, 3))"
   ]
  },
  {
   "cell_type": "markdown",
   "metadata": {},
   "source": [
    "#### 10. Find indices of non-zero elements from \\[1,2,0,0,4,0\\] (★☆☆)"
   ]
  },
  {
   "cell_type": "code",
   "execution_count": 15,
   "metadata": {},
   "outputs": [
    {
     "data": {
      "text/plain": [
       "(array([0, 1, 4]),)"
      ]
     },
     "execution_count": 15,
     "metadata": {},
     "output_type": "execute_result"
    }
   ],
   "source": [
    "np.nonzero([1, 2, 0, 0, 4, 0])"
   ]
  },
  {
   "cell_type": "markdown",
   "metadata": {},
   "source": [
    "#### 11. Create a 3x3 identity matrix (★☆☆)"
   ]
  },
  {
   "cell_type": "code",
   "execution_count": 16,
   "metadata": {},
   "outputs": [
    {
     "data": {
      "text/plain": [
       "array([[1., 0., 0.],\n",
       "       [0., 1., 0.],\n",
       "       [0., 0., 1.]])"
      ]
     },
     "execution_count": 16,
     "metadata": {},
     "output_type": "execute_result"
    }
   ],
   "source": [
    "np.eye(3)"
   ]
  },
  {
   "cell_type": "markdown",
   "metadata": {},
   "source": [
    "#### 12. Create a 3x3x3 array with random values (★☆☆)"
   ]
  },
  {
   "cell_type": "code",
   "execution_count": 17,
   "metadata": {},
   "outputs": [
    {
     "data": {
      "text/plain": [
       "array([[[0.90766081, 0.35484346, 0.14137324],\n",
       "        [0.83030622, 0.08447738, 0.25603362],\n",
       "        [0.43298798, 0.9759991 , 0.99544022]],\n",
       "\n",
       "       [[0.89190357, 0.29296657, 0.99883082],\n",
       "        [0.59621613, 0.38237504, 0.36561704],\n",
       "        [0.92686809, 0.80549723, 0.15132144]],\n",
       "\n",
       "       [[0.08529172, 0.92265129, 0.91773971],\n",
       "        [0.3308363 , 0.65204008, 0.25940636],\n",
       "        [0.07521543, 0.46122283, 0.79132548]]])"
      ]
     },
     "execution_count": 17,
     "metadata": {},
     "output_type": "execute_result"
    }
   ],
   "source": [
    "np.random.random((3,3,3))"
   ]
  },
  {
   "cell_type": "markdown",
   "metadata": {},
   "source": [
    "#### 13. Create a 10x10 array with random values and find the minimum and maximum values (★☆☆)"
   ]
  },
  {
   "cell_type": "code",
   "execution_count": 22,
   "metadata": {},
   "outputs": [
    {
     "name": "stdout",
     "output_type": "stream",
     "text": [
      "0.9929558396429009\n",
      "0.007995122448371528\n"
     ]
    }
   ],
   "source": [
    "a = np.random.random((10, 10))\n",
    "print(np.max(a))\n",
    "print(np.min(a))"
   ]
  },
  {
   "cell_type": "markdown",
   "metadata": {},
   "source": [
    "#### 14. Create a random vector of size 30 and find the mean value (★☆☆)"
   ]
  },
  {
   "cell_type": "code",
   "execution_count": 24,
   "metadata": {},
   "outputs": [
    {
     "data": {
      "text/plain": [
       "0.4949149156104008"
      ]
     },
     "execution_count": 24,
     "metadata": {},
     "output_type": "execute_result"
    }
   ],
   "source": [
    "np.random.random((1000)).mean()"
   ]
  },
  {
   "cell_type": "markdown",
   "metadata": {},
   "source": [
    "#### 15. Create a 2d array with 1 on the border and 0 inside (★☆☆)"
   ]
  },
  {
   "cell_type": "code",
   "execution_count": 32,
   "metadata": {},
   "outputs": [
    {
     "data": {
      "text/plain": [
       "array([[1., 1., 1., 1., 1., 1.],\n",
       "       [1., 0., 0., 0., 0., 1.],\n",
       "       [1., 0., 0., 0., 0., 1.],\n",
       "       [1., 0., 0., 0., 0., 1.],\n",
       "       [1., 1., 1., 1., 1., 1.]])"
      ]
     },
     "execution_count": 32,
     "metadata": {},
     "output_type": "execute_result"
    }
   ],
   "source": [
    "np.pad(np.zeros((3,4)), mode=\"constant\", pad_width=1, constant_values=1)"
   ]
  },
  {
   "cell_type": "markdown",
   "metadata": {},
   "source": [
    "#### 16. How to add a border (filled with 0's) around an existing array? (★☆☆)"
   ]
  },
  {
   "cell_type": "code",
   "execution_count": 33,
   "metadata": {},
   "outputs": [
    {
     "data": {
      "text/plain": [
       "array([[0.        , 0.        , 0.        , 0.        , 0.        ,\n",
       "        0.        , 0.        , 0.        , 0.        , 0.        ,\n",
       "        0.        , 0.        ],\n",
       "       [0.        , 0.90080976, 0.94121107, 0.7871577 , 0.72147987,\n",
       "        0.35600332, 0.45415371, 0.88919518, 0.32718748, 0.72638756,\n",
       "        0.63063871, 0.        ],\n",
       "       [0.        , 0.1675302 , 0.68619989, 0.76232591, 0.14107855,\n",
       "        0.60818463, 0.56213764, 0.161019  , 0.274114  , 0.73345183,\n",
       "        0.55896543, 0.        ],\n",
       "       [0.        , 0.41740224, 0.6832808 , 0.57746983, 0.13655579,\n",
       "        0.14547839, 0.31826981, 0.37756289, 0.04650993, 0.36379807,\n",
       "        0.00799512, 0.        ],\n",
       "       [0.        , 0.01625183, 0.11102453, 0.3314276 , 0.59465487,\n",
       "        0.34067014, 0.54704032, 0.32809002, 0.94146071, 0.47501801,\n",
       "        0.02379195, 0.        ],\n",
       "       [0.        , 0.66896405, 0.47398687, 0.09873448, 0.33526194,\n",
       "        0.33073024, 0.25438617, 0.27042837, 0.83610687, 0.10781057,\n",
       "        0.33230048, 0.        ],\n",
       "       [0.        , 0.4738524 , 0.92344757, 0.26590454, 0.99295584,\n",
       "        0.59163659, 0.15946728, 0.50874724, 0.91413401, 0.79270683,\n",
       "        0.68168465, 0.        ],\n",
       "       [0.        , 0.64260318, 0.3944602 , 0.21643484, 0.92735902,\n",
       "        0.11418823, 0.57732856, 0.6024448 , 0.8050599 , 0.22992005,\n",
       "        0.47082274, 0.        ],\n",
       "       [0.        , 0.91354592, 0.68133636, 0.42582062, 0.90883926,\n",
       "        0.13717548, 0.87098316, 0.2748331 , 0.56413793, 0.70309163,\n",
       "        0.37785913, 0.        ],\n",
       "       [0.        , 0.16696541, 0.22103186, 0.93023705, 0.63486789,\n",
       "        0.56338039, 0.40598435, 0.32831706, 0.98389706, 0.26933998,\n",
       "        0.66397068, 0.        ],\n",
       "       [0.        , 0.81069359, 0.62581759, 0.52132508, 0.50285195,\n",
       "        0.17949784, 0.58115873, 0.3659378 , 0.47850806, 0.51758213,\n",
       "        0.4944154 , 0.        ],\n",
       "       [0.        , 0.        , 0.        , 0.        , 0.        ,\n",
       "        0.        , 0.        , 0.        , 0.        , 0.        ,\n",
       "        0.        , 0.        ]])"
      ]
     },
     "execution_count": 33,
     "metadata": {},
     "output_type": "execute_result"
    }
   ],
   "source": [
    "np.pad(a, mode=\"constant\", pad_width=1, constant_values=0)"
   ]
  },
  {
   "cell_type": "markdown",
   "metadata": {},
   "source": [
    "#### 17. What is the result of the following expression? (★☆☆)"
   ]
  },
  {
   "cell_type": "markdown",
   "metadata": {},
   "source": [
    "```python\n",
    "0 * np.nan\n",
    "np.nan == np.nan\n",
    "np.inf > np.nan\n",
    "np.nan - np.nan\n",
    "np.nan in set([np.nan])\n",
    "0.3 == 3 * 0.1\n",
    "```"
   ]
  },
  {
   "cell_type": "code",
   "execution_count": 39,
   "metadata": {},
   "outputs": [
    {
     "data": {
      "text/plain": [
       "False"
      ]
     },
     "execution_count": 39,
     "metadata": {},
     "output_type": "execute_result"
    }
   ],
   "source": [
    "0.3 == 3 * 0.1"
   ]
  },
  {
   "cell_type": "markdown",
   "metadata": {},
   "source": [
    "#### 18. Create a 5x5 matrix with values 1,2,3,4 just below the diagonal (★☆☆)"
   ]
  },
  {
   "cell_type": "code",
   "execution_count": 42,
   "metadata": {},
   "outputs": [
    {
     "data": {
      "text/plain": [
       "array([[0, 0, 0, 0, 0],\n",
       "       [1, 0, 0, 0, 0],\n",
       "       [0, 2, 0, 0, 0],\n",
       "       [0, 0, 3, 0, 0],\n",
       "       [0, 0, 0, 4, 0]])"
      ]
     },
     "execution_count": 42,
     "metadata": {},
     "output_type": "execute_result"
    }
   ],
   "source": [
    "np.diagflat(range(1,5), -1)"
   ]
  },
  {
   "cell_type": "markdown",
   "metadata": {},
   "source": [
    "#### 19. Create a 8x8 matrix and fill it with a checkerboard pattern (★☆☆)"
   ]
  },
  {
   "cell_type": "code",
   "execution_count": null,
   "metadata": {},
   "outputs": [],
   "source": []
  },
  {
   "cell_type": "markdown",
   "metadata": {},
   "source": [
    "#### 20. Consider a (6,7,8) shape array, what is the index (x,y,z) of the 100th element?"
   ]
  },
  {
   "cell_type": "code",
   "execution_count": 53,
   "metadata": {},
   "outputs": [
    {
     "data": {
      "text/plain": [
       "5"
      ]
     },
     "execution_count": 53,
     "metadata": {},
     "output_type": "execute_result"
    }
   ],
   "source": [
    "array = np.array([\n",
    "    [11, 22, 33],\n",
    "    [77, 88, 99],\n",
    "    [44, 55, 66]]\n",
    ")\n",
    "np.argmax(array)"
   ]
  },
  {
   "cell_type": "markdown",
   "metadata": {},
   "source": [
    "#### 21. Create a checkerboard 8x8 matrix using the tile function (★☆☆)"
   ]
  },
  {
   "cell_type": "code",
   "execution_count": 55,
   "metadata": {},
   "outputs": [
    {
     "data": {
      "text/plain": [
       "array([[0, 1, 0, 1, 0, 1, 0, 1],\n",
       "       [1, 0, 1, 0, 1, 0, 1, 0],\n",
       "       [0, 1, 0, 1, 0, 1, 0, 1],\n",
       "       [1, 0, 1, 0, 1, 0, 1, 0],\n",
       "       [0, 1, 0, 1, 0, 1, 0, 1],\n",
       "       [1, 0, 1, 0, 1, 0, 1, 0],\n",
       "       [0, 1, 0, 1, 0, 1, 0, 1],\n",
       "       [1, 0, 1, 0, 1, 0, 1, 0]])"
      ]
     },
     "execution_count": 55,
     "metadata": {},
     "output_type": "execute_result"
    }
   ],
   "source": [
    "np.tile([[0, 1], [1, 0]], (4, 4))"
   ]
  },
  {
   "cell_type": "markdown",
   "metadata": {},
   "source": [
    "#### 22. Normalize a 5x5 random matrix (★☆☆)"
   ]
  },
  {
   "cell_type": "code",
   "execution_count": 59,
   "metadata": {},
   "outputs": [
    {
     "data": {
      "text/plain": [
       "array([[0.07620468, 0.0591964 , 0.07592051, 0.06303346, 0.02982357],\n",
       "       [0.10566334, 0.09958348, 0.10709474, 0.06751977, 0.01435305],\n",
       "       [0.02923949, 0.09457847, 0.01744194, 0.08531968, 0.10069095],\n",
       "       [0.07372765, 0.08234868, 0.06140683, 0.05882801, 0.09479609],\n",
       "       [0.0907272 , 0.01660859, 0.01918913, 0.03360393, 0.01377151]])"
      ]
     },
     "execution_count": 59,
     "metadata": {},
     "output_type": "execute_result"
    }
   ],
   "source": [
    "a = np.random.random((5, 5))\n",
    "a /= np.sum(a ** 2)\n",
    "a"
   ]
  },
  {
   "cell_type": "markdown",
   "metadata": {},
   "source": [
    "#### 23. Create a custom dtype that describes a color as four unsigned bytes (RGBA) (★☆☆)"
   ]
  },
  {
   "cell_type": "code",
   "execution_count": 60,
   "metadata": {},
   "outputs": [],
   "source": [
    "dt = np.dtype(np.uint32)"
   ]
  },
  {
   "cell_type": "markdown",
   "metadata": {},
   "source": [
    "#### 24. Multiply a 5x3 matrix by a 3x2 matrix (real matrix product) (★☆☆)"
   ]
  },
  {
   "cell_type": "code",
   "execution_count": 64,
   "metadata": {},
   "outputs": [
    {
     "data": {
      "text/plain": [
       "array([[ 10,  13],\n",
       "       [ 28,  40],\n",
       "       [ 46,  67],\n",
       "       [ 64,  94],\n",
       "       [ 82, 121]])"
      ]
     },
     "execution_count": 64,
     "metadata": {},
     "output_type": "execute_result"
    }
   ],
   "source": [
    "a = np.arange(15).reshape((5, 3))\n",
    "b = np.arange(6).reshape((3, 2))\n",
    "np.matmul(a, b)"
   ]
  },
  {
   "cell_type": "markdown",
   "metadata": {},
   "source": [
    "#### 25. Given a 1D array, negate all elements which are between 3 and 8, in place. (★☆☆)"
   ]
  },
  {
   "cell_type": "code",
   "execution_count": 67,
   "metadata": {},
   "outputs": [
    {
     "data": {
      "text/plain": [
       "array([ 0,  1,  2,  3,  0,  0,  0,  0,  8,  9, 10, 11, 12, 13, 14])"
      ]
     },
     "execution_count": 67,
     "metadata": {},
     "output_type": "execute_result"
    }
   ],
   "source": [
    "a = np.arange(15)\n",
    "a[np.logical_and(a>3,a<8)] = 0\n",
    "a"
   ]
  },
  {
   "cell_type": "markdown",
   "metadata": {},
   "source": [
    "#### 26. What is the output of the following script? (★☆☆)"
   ]
  },
  {
   "cell_type": "markdown",
   "metadata": {},
   "source": [
    "```python\n",
    "# Author: Jake VanderPlas\n",
    "\n",
    "print(sum(range(5),-1))\n",
    "from numpy import *\n",
    "print(sum(range(5),-1))\n",
    "```"
   ]
  },
  {
   "cell_type": "code",
   "execution_count": 69,
   "metadata": {},
   "outputs": [
    {
     "name": "stdout",
     "output_type": "stream",
     "text": [
      "10\n"
     ]
    }
   ],
   "source": [
    "from numpy import *\n",
    "print(sum(range(5),-1))"
   ]
  },
  {
   "cell_type": "markdown",
   "metadata": {},
   "source": [
    "#### 27. Consider an integer vector Z, which of these expressions are legal? (★☆☆)"
   ]
  },
  {
   "cell_type": "markdown",
   "metadata": {},
   "source": [
    "```python\n",
    "Z**Z\n",
    "2 << Z >> 2\n",
    "Z <- Z\n",
    "1j*Z\n",
    "Z/1/1\n",
    "Z<Z>Z\n",
    "```"
   ]
  },
  {
   "cell_type": "code",
   "execution_count": 79,
   "metadata": {},
   "outputs": [
    {
     "ename": "ValueError",
     "evalue": "The truth value of an array with more than one element is ambiguous. Use a.any() or a.all()",
     "output_type": "error",
     "traceback": [
      "\u001b[0;31m---------------------------------------------------------------------------\u001b[0m",
      "\u001b[0;31mValueError\u001b[0m                                Traceback (most recent call last)",
      "\u001b[0;32m<ipython-input-79-ac8b5dc89b10>\u001b[0m in \u001b[0;36m<module>\u001b[0;34m\u001b[0m\n\u001b[1;32m      1\u001b[0m \u001b[0mZ\u001b[0m \u001b[0;34m=\u001b[0m \u001b[0mnp\u001b[0m\u001b[0;34m.\u001b[0m\u001b[0marange\u001b[0m\u001b[0;34m(\u001b[0m\u001b[0;36m3\u001b[0m\u001b[0;34m)\u001b[0m\u001b[0;34m\u001b[0m\u001b[0;34m\u001b[0m\u001b[0m\n\u001b[0;32m----> 2\u001b[0;31m \u001b[0mZ\u001b[0m\u001b[0;34m<\u001b[0m\u001b[0mZ\u001b[0m\u001b[0;34m>\u001b[0m\u001b[0mZ\u001b[0m\u001b[0;34m\u001b[0m\u001b[0;34m\u001b[0m\u001b[0m\n\u001b[0m",
      "\u001b[0;31mValueError\u001b[0m: The truth value of an array with more than one element is ambiguous. Use a.any() or a.all()"
     ]
    }
   ],
   "source": [
    "Z = np.arange(3)\n",
    "Z<Z>Z"
   ]
  },
  {
   "cell_type": "markdown",
   "metadata": {},
   "source": [
    "#### 28. What are the result of the following expressions?"
   ]
  },
  {
   "cell_type": "markdown",
   "metadata": {},
   "source": [
    "```python\n",
    "np.array(0) / np.array(0)\n",
    "np.array(0) // np.array(0)\n",
    "np.array([np.nan]).astype(int).astype(float)\n",
    "```"
   ]
  },
  {
   "cell_type": "code",
   "execution_count": 82,
   "metadata": {},
   "outputs": [
    {
     "data": {
      "text/plain": [
       "array([-9.22337204e+18])"
      ]
     },
     "execution_count": 82,
     "metadata": {},
     "output_type": "execute_result"
    }
   ],
   "source": [
    "np.array([np.nan]).astype(int).astype(float)"
   ]
  },
  {
   "cell_type": "markdown",
   "metadata": {},
   "source": [
    "#### 29. How to round away from zero a float array ? (★☆☆)"
   ]
  },
  {
   "cell_type": "code",
   "execution_count": 83,
   "metadata": {},
   "outputs": [
    {
     "data": {
      "text/plain": [
       "array([ 3,  4,  5,  6,  7,  8,  9, 10, 11, 12, 13, 14])"
      ]
     },
     "execution_count": 83,
     "metadata": {},
     "output_type": "execute_result"
    }
   ],
   "source": []
  },
  {
   "cell_type": "markdown",
   "metadata": {},
   "source": [
    "#### 30. How to find common values between two arrays? (★☆☆)"
   ]
  },
  {
   "cell_type": "code",
   "execution_count": null,
   "metadata": {},
   "outputs": [],
   "source": [
    "a = np.arange(15)\n",
    "b = np.arange(3, 20)\n",
    "np.intersect1d(a, b)"
   ]
  },
  {
   "cell_type": "markdown",
   "metadata": {},
   "source": [
    "#### 31. How to ignore all numpy warnings (not recommended)? (★☆☆)"
   ]
  },
  {
   "cell_type": "code",
   "execution_count": 84,
   "metadata": {},
   "outputs": [
    {
     "data": {
      "text/plain": [
       "{'divide': 'warn', 'over': 'warn', 'under': 'ignore', 'invalid': 'warn'}"
      ]
     },
     "execution_count": 84,
     "metadata": {},
     "output_type": "execute_result"
    }
   ],
   "source": [
    "np.seterr(all=\"ignore\")"
   ]
  },
  {
   "cell_type": "markdown",
   "metadata": {},
   "source": [
    "#### 32. Is the following expressions true? (★☆☆)"
   ]
  },
  {
   "cell_type": "markdown",
   "metadata": {},
   "source": [
    "```python\n",
    "np.sqrt(-1) == np.emath.sqrt(-1)\n",
    "```"
   ]
  },
  {
   "cell_type": "code",
   "execution_count": 85,
   "metadata": {},
   "outputs": [
    {
     "data": {
      "text/plain": [
       "False"
      ]
     },
     "execution_count": 85,
     "metadata": {},
     "output_type": "execute_result"
    }
   ],
   "source": [
    "np.sqrt(-1) == np.emath.sqrt(-1)"
   ]
  },
  {
   "cell_type": "markdown",
   "metadata": {},
   "source": [
    "#### 33. How to get the dates of yesterday, today and tomorrow? (★☆☆)"
   ]
  },
  {
   "cell_type": "code",
   "execution_count": 88,
   "metadata": {},
   "outputs": [
    {
     "data": {
      "text/plain": [
       "numpy.datetime64('2019-08-12')"
      ]
     },
     "execution_count": 88,
     "metadata": {},
     "output_type": "execute_result"
    }
   ],
   "source": [
    "np.datetime64(\"today\", \"D\") + np.timedelta64(1, \"D\")"
   ]
  },
  {
   "cell_type": "markdown",
   "metadata": {},
   "source": [
    "#### 34. How to get all the dates corresponding to the month of July 2016? (★★☆)"
   ]
  },
  {
   "cell_type": "code",
   "execution_count": 91,
   "metadata": {},
   "outputs": [
    {
     "data": {
      "text/plain": [
       "array(['2016-06-01', '2016-06-02', '2016-06-03', '2016-06-04',\n",
       "       '2016-06-05', '2016-06-06', '2016-06-07', '2016-06-08',\n",
       "       '2016-06-09', '2016-06-10', '2016-06-11', '2016-06-12',\n",
       "       '2016-06-13', '2016-06-14', '2016-06-15', '2016-06-16',\n",
       "       '2016-06-17', '2016-06-18', '2016-06-19', '2016-06-20',\n",
       "       '2016-06-21', '2016-06-22', '2016-06-23', '2016-06-24',\n",
       "       '2016-06-25', '2016-06-26', '2016-06-27', '2016-06-28',\n",
       "       '2016-06-29', '2016-06-30'], dtype='datetime64[D]')"
      ]
     },
     "execution_count": 91,
     "metadata": {},
     "output_type": "execute_result"
    }
   ],
   "source": [
    "np.arange(\"2016-06\", \"2016-07\", dtype=\"datetime64[D]\")"
   ]
  },
  {
   "cell_type": "markdown",
   "metadata": {},
   "source": [
    "#### 35. How to compute ((A+B)\\*(-A/2)) in place (without copy)? (★★☆)"
   ]
  },
  {
   "cell_type": "code",
   "execution_count": 92,
   "metadata": {},
   "outputs": [
    {
     "data": {
      "text/plain": [
       "array([ -4.5, -12.5, -24.5])"
      ]
     },
     "execution_count": 92,
     "metadata": {},
     "output_type": "execute_result"
    }
   ],
   "source": [
    "a = np.arange(3)\n",
    "b = np.arange(3, 6)\n",
    "(a.__iadd__(b))*(-a/2)"
   ]
  },
  {
   "cell_type": "markdown",
   "metadata": {},
   "source": [
    "#### 36. Extract the integer part of a random array using 5 different methods (★★☆)"
   ]
  },
  {
   "cell_type": "code",
   "execution_count": null,
   "metadata": {},
   "outputs": [],
   "source": []
  },
  {
   "cell_type": "markdown",
   "metadata": {},
   "source": [
    "#### 37. Create a 5x5 matrix with row values ranging from 0 to 4 (★★☆)"
   ]
  },
  {
   "cell_type": "code",
   "execution_count": 93,
   "metadata": {},
   "outputs": [
    {
     "data": {
      "text/plain": [
       "array([[0, 1, 2, 3, 4],\n",
       "       [0, 1, 2, 3, 4],\n",
       "       [0, 1, 2, 3, 4],\n",
       "       [0, 1, 2, 3, 4],\n",
       "       [0, 1, 2, 3, 4]])"
      ]
     },
     "execution_count": 93,
     "metadata": {},
     "output_type": "execute_result"
    }
   ],
   "source": [
    "np.tile(np.arange(5), (5, 1))"
   ]
  },
  {
   "cell_type": "markdown",
   "metadata": {},
   "source": [
    "#### 38. Consider a generator function that generates 10 integers and use it to build an array (★☆☆)"
   ]
  },
  {
   "cell_type": "code",
   "execution_count": 94,
   "metadata": {},
   "outputs": [
    {
     "data": {
      "text/plain": [
       "array([0, 1, 2, 3, 4, 5, 6, 7, 8, 9])"
      ]
     },
     "execution_count": 94,
     "metadata": {},
     "output_type": "execute_result"
    }
   ],
   "source": [
    "np.array(range(10))"
   ]
  },
  {
   "cell_type": "markdown",
   "metadata": {},
   "source": [
    "#### 39. Create a vector of size 10 with values ranging from 0 to 1, both excluded (★★☆)"
   ]
  },
  {
   "cell_type": "code",
   "execution_count": 95,
   "metadata": {},
   "outputs": [
    {
     "data": {
      "text/plain": [
       "array([0.        , 0.11111111, 0.22222222, 0.33333333, 0.44444444,\n",
       "       0.55555556, 0.66666667, 0.77777778, 0.88888889, 1.        ])"
      ]
     },
     "execution_count": 95,
     "metadata": {},
     "output_type": "execute_result"
    }
   ],
   "source": [
    "np.linspace(0, 1, 10)"
   ]
  },
  {
   "cell_type": "markdown",
   "metadata": {},
   "source": [
    "#### 40. Create a random vector of size 10 and sort it (★★☆)"
   ]
  },
  {
   "cell_type": "code",
   "execution_count": 99,
   "metadata": {},
   "outputs": [
    {
     "data": {
      "text/plain": [
       "array([0.06968049, 0.12384725, 0.26266584, 0.28512976, 0.30050902,\n",
       "       0.37348813, 0.45896355, 0.47619864, 0.71760393, 0.83588714])"
      ]
     },
     "execution_count": 99,
     "metadata": {},
     "output_type": "execute_result"
    }
   ],
   "source": [
    "a = np.sort(np.random.random(10))\n",
    "a"
   ]
  },
  {
   "cell_type": "markdown",
   "metadata": {},
   "source": [
    "#### 41. How to sum a small array faster than np.sum? (★★☆)"
   ]
  },
  {
   "cell_type": "code",
   "execution_count": 106,
   "metadata": {},
   "outputs": [
    {
     "name": "stdout",
     "output_type": "stream",
     "text": [
      "2.94 µs ± 51.1 ns per loop (mean ± std. dev. of 7 runs, 100000 loops each)\n",
      "2.93 µs ± 99.7 ns per loop (mean ± std. dev. of 7 runs, 100000 loops each)\n"
     ]
    }
   ],
   "source": [
    "a = np.arange(10).reshape((2, 5))\n",
    "%timeit np.sum(a)\n",
    "def sumt(a):\n",
    "    t = 0\n",
    "    for i in a:\n",
    "        t += i\n",
    "%timeit sumt(a)\n",
    "    "
   ]
  },
  {
   "cell_type": "markdown",
   "metadata": {},
   "source": [
    "#### 42. Consider two random array A and B, check if they are equal (★★☆)"
   ]
  },
  {
   "cell_type": "code",
   "execution_count": 108,
   "metadata": {},
   "outputs": [
    {
     "data": {
      "text/plain": [
       "False"
      ]
     },
     "execution_count": 108,
     "metadata": {},
     "output_type": "execute_result"
    }
   ],
   "source": [
    "a = np.random.random(4)\n",
    "b = a \n",
    "c = np.random.random(4)\n",
    "np.array_equal(a, c)"
   ]
  },
  {
   "cell_type": "markdown",
   "metadata": {},
   "source": [
    "#### 43. Make an array immutable (read-only) (★★☆)"
   ]
  },
  {
   "cell_type": "code",
   "execution_count": 112,
   "metadata": {},
   "outputs": [
    {
     "ename": "ValueError",
     "evalue": "assignment destination is read-only",
     "output_type": "error",
     "traceback": [
      "\u001b[0;31m---------------------------------------------------------------------------\u001b[0m",
      "\u001b[0;31mValueError\u001b[0m                                Traceback (most recent call last)",
      "\u001b[0;32m<ipython-input-112-309395938228>\u001b[0m in \u001b[0;36m<module>\u001b[0;34m\u001b[0m\n\u001b[1;32m      1\u001b[0m \u001b[0ma\u001b[0m\u001b[0;34m.\u001b[0m\u001b[0mflags\u001b[0m\u001b[0;34m[\u001b[0m\u001b[0;34m\"WRITEABLE\"\u001b[0m\u001b[0;34m]\u001b[0m \u001b[0;34m=\u001b[0m \u001b[0;32mFalse\u001b[0m\u001b[0;34m\u001b[0m\u001b[0;34m\u001b[0m\u001b[0m\n\u001b[1;32m      2\u001b[0m \u001b[0ma\u001b[0m\u001b[0;34m\u001b[0m\u001b[0;34m\u001b[0m\u001b[0m\n\u001b[0;32m----> 3\u001b[0;31m \u001b[0ma\u001b[0m\u001b[0;34m[\u001b[0m\u001b[0;36m0\u001b[0m\u001b[0;34m]\u001b[0m \u001b[0;34m=\u001b[0m \u001b[0;36m1\u001b[0m\u001b[0;34m\u001b[0m\u001b[0;34m\u001b[0m\u001b[0m\n\u001b[0m",
      "\u001b[0;31mValueError\u001b[0m: assignment destination is read-only"
     ]
    }
   ],
   "source": [
    "a.flags[\"WRITEABLE\"] = False\n",
    "a\n",
    "a[0] = 1"
   ]
  },
  {
   "cell_type": "markdown",
   "metadata": {},
   "source": [
    "#### 44. Consider a random 10x2 matrix representing cartesian coordinates, convert them to polar coordinates (★★☆)"
   ]
  },
  {
   "cell_type": "code",
   "execution_count": 114,
   "metadata": {},
   "outputs": [
    {
     "data": {
      "text/plain": [
       "array([1.14344037, 0.69167293, 0.74464648, 0.54430116, 1.10474407,\n",
       "       0.28270386, 0.81218885, 0.32950272, 0.26844122, 0.73183009])"
      ]
     },
     "execution_count": 114,
     "metadata": {},
     "output_type": "execute_result"
    }
   ],
   "source": [
    "Z = np.random.random((10, 2))\n",
    "r = np.sqrt(np.sum(Z ** 2, -1))\n",
    "theta = np.arctan(Z[:, -1]/Z[:, 0])\n",
    "theta"
   ]
  },
  {
   "cell_type": "markdown",
   "metadata": {},
   "source": [
    "#### 45. Create random vector of size 10 and replace the maximum value by 0 (★★☆)"
   ]
  },
  {
   "cell_type": "code",
   "execution_count": 115,
   "metadata": {},
   "outputs": [
    {
     "name": "stdout",
     "output_type": "stream",
     "text": [
      "[0.91327621 0.44819014 0.90751922 0.14680165 0.85062559 0.39022343\n",
      " 0.61739459 0.7236832  0.37179418 0.65201644]\n",
      "[0.         0.44819014 0.90751922 0.14680165 0.85062559 0.39022343\n",
      " 0.61739459 0.7236832  0.37179418 0.65201644]\n"
     ]
    }
   ],
   "source": [
    "Z = np.random.random(10)\n",
    "print(Z)\n",
    "idx = np.unravel_index(np.argmax(Z), Z.shape)\n",
    "Z[idx] = 0\n",
    "print(Z)"
   ]
  },
  {
   "cell_type": "markdown",
   "metadata": {},
   "source": [
    "#### 46. Create a structured array with `x` and `y` coordinates covering the \\[0,1\\]x\\[0,1\\] area (★★☆)"
   ]
  },
  {
   "cell_type": "code",
   "execution_count": 121,
   "metadata": {},
   "outputs": [
    {
     "data": {
      "text/plain": [
       "array([0., 0.], dtype=float32)"
      ]
     },
     "execution_count": 121,
     "metadata": {},
     "output_type": "execute_result"
    }
   ],
   "source": [
    "dt = np.dtype([(\"x\", \"<f4\"), (\"y\", \"<f4\")])\n",
    "Z = np.array([(0, 0), (0, 1)], dtype=dt)\n",
    "Z[\"x\"]"
   ]
  },
  {
   "cell_type": "markdown",
   "metadata": {},
   "source": [
    "####  47. Given two arrays, X and Y, construct the Cauchy matrix C (Cij =1/(xi - yj))"
   ]
  },
  {
   "cell_type": "code",
   "execution_count": 124,
   "metadata": {},
   "outputs": [
    {
     "data": {
      "text/plain": [
       "array([[1.23170212, 1.78819168, 1.67643494],\n",
       "       [0.23961967, 0.79610923, 0.68435249],\n",
       "       [0.12708398, 0.68357355, 0.57181681],\n",
       "       [1.10113971, 1.65762927, 1.54587254]])"
      ]
     },
     "execution_count": 124,
     "metadata": {},
     "output_type": "execute_result"
    }
   ],
   "source": [
    "X = np.random.rand(4)\n",
    "Y = np.random.rand(3)\n",
    "C = 1. / X[:, None] - Y\n",
    "C"
   ]
  },
  {
   "cell_type": "markdown",
   "metadata": {},
   "source": [
    "#### 48. Print the minimum and maximum representable value for each numpy scalar type (★★☆)"
   ]
  },
  {
   "cell_type": "code",
   "execution_count": 134,
   "metadata": {},
   "outputs": [
    {
     "name": "stdout",
     "output_type": "stream",
     "text": [
      "Machine parameters for int8\n",
      "---------------------------------------------------------------\n",
      "min = -128\n",
      "max = 127\n",
      "---------------------------------------------------------------\n",
      "\n",
      "Machine parameters for int16\n",
      "---------------------------------------------------------------\n",
      "min = -32768\n",
      "max = 32767\n",
      "---------------------------------------------------------------\n",
      "\n",
      "Machine parameters for int32\n",
      "---------------------------------------------------------------\n",
      "min = -2147483648\n",
      "max = 2147483647\n",
      "---------------------------------------------------------------\n",
      "\n",
      "Machine parameters for int64\n",
      "---------------------------------------------------------------\n",
      "min = -9223372036854775808\n",
      "max = 9223372036854775807\n",
      "---------------------------------------------------------------\n",
      "\n",
      "Machine parameters for uint8\n",
      "---------------------------------------------------------------\n",
      "min = 0\n",
      "max = 255\n",
      "---------------------------------------------------------------\n",
      "\n",
      "Machine parameters for uint16\n",
      "---------------------------------------------------------------\n",
      "min = 0\n",
      "max = 65535\n",
      "---------------------------------------------------------------\n",
      "\n",
      "Machine parameters for uint32\n",
      "---------------------------------------------------------------\n",
      "min = 0\n",
      "max = 4294967295\n",
      "---------------------------------------------------------------\n",
      "\n",
      "Machine parameters for uint64\n",
      "---------------------------------------------------------------\n",
      "min = 0\n",
      "max = 18446744073709551615\n",
      "---------------------------------------------------------------\n",
      "\n",
      "Machine parameters for float32\n",
      "---------------------------------------------------------------\n",
      "precision =   6   resolution = 1.0000000e-06\n",
      "machep =    -23   eps =        1.1920929e-07\n",
      "negep =     -24   epsneg =     5.9604645e-08\n",
      "minexp =   -126   tiny =       1.1754944e-38\n",
      "maxexp =    128   max =        3.4028235e+38\n",
      "nexp =        8   min =        -max\n",
      "---------------------------------------------------------------\n",
      "\n",
      "Machine parameters for float64\n",
      "---------------------------------------------------------------\n",
      "precision =  15   resolution = 1.0000000000000001e-15\n",
      "machep =    -52   eps =        2.2204460492503131e-16\n",
      "negep =     -53   epsneg =     1.1102230246251565e-16\n",
      "minexp =  -1022   tiny =       2.2250738585072014e-308\n",
      "maxexp =   1024   max =        1.7976931348623157e+308\n",
      "nexp =       11   min =        -max\n",
      "---------------------------------------------------------------\n",
      "\n"
     ]
    }
   ],
   "source": [
    "print(np.iinfo(np.int8))\n",
    "print(np.iinfo(np.int16))\n",
    "print(np.iinfo(np.int32))\n",
    "print(np.iinfo(np.int64))\n",
    "\n",
    "print(np.iinfo(np.uint8))\n",
    "print(np.iinfo(np.uint16))\n",
    "print(np.iinfo(np.uint32))\n",
    "print(np.iinfo(np.uint64))\n",
    "\n",
    "print(np.finfo(np.float32))\n",
    "print(np.finfo(np.float64))"
   ]
  },
  {
   "cell_type": "markdown",
   "metadata": {},
   "source": [
    "#### 49. How to print all the values of an array? (★★☆)"
   ]
  },
  {
   "cell_type": "code",
   "execution_count": 140,
   "metadata": {},
   "outputs": [
    {
     "name": "stdout",
     "output_type": "stream",
     "text": [
      "[1.39798776e-01 6.69724983e-01 5.87358700e-01 2.66794860e-01\n",
      " 6.04634358e-02 3.75329453e-01 6.70318075e-01 7.76229210e-02\n",
      " 1.83058870e-01 8.73172322e-01 1.80373374e-01 4.23921159e-01\n",
      " 9.43834689e-01 7.77251243e-01 5.00110242e-01 4.48791174e-01\n",
      " 3.13091233e-02 1.61199559e-01 4.40544415e-01 4.87060138e-01\n",
      " 4.50351242e-01 3.21611617e-01 4.95937922e-01 3.49077017e-02\n",
      " 5.67107275e-01 5.36396414e-01 7.27594881e-01 9.17879516e-01\n",
      " 9.63430025e-01 7.26479698e-01 6.62872258e-01 5.36090160e-01\n",
      " 9.34553190e-01 6.72610348e-01 8.79814278e-01 9.61289553e-01\n",
      " 2.10129772e-02 3.85393048e-01 9.34358600e-01 3.06922477e-01\n",
      " 6.72947154e-02 6.42373908e-02 1.84203502e-01 5.08936306e-01\n",
      " 8.82285170e-02 5.74399909e-01 5.58803426e-01 1.14857617e-01\n",
      " 6.52764230e-01 6.04308189e-01 9.67814801e-02 4.32253793e-01\n",
      " 8.13910272e-01 3.69212546e-02 9.19624325e-01 2.07435193e-01\n",
      " 5.01711878e-01 8.49120969e-01 7.22187441e-01 7.41335990e-01\n",
      " 7.27409269e-01 8.63633553e-01 5.73524304e-01 5.31048337e-01\n",
      " 5.98397422e-01 6.71766393e-01 3.36740246e-01 1.95992272e-01\n",
      " 2.48015133e-01 9.84769648e-01 7.81753026e-01 9.39500516e-01\n",
      " 8.94109306e-01 4.77897782e-01 6.61738002e-01 1.08009764e-01\n",
      " 5.90993719e-01 2.40480792e-02 7.40586188e-01 2.67285652e-01\n",
      " 9.36841594e-01 6.75820249e-01 5.62267335e-01 3.98223065e-01\n",
      " 1.28808429e-01 4.42073657e-02 8.19574658e-01 4.40825716e-01\n",
      " 7.11703767e-01 1.80567001e-01 6.36135574e-01 9.30451350e-01\n",
      " 6.70098361e-01 7.12688851e-01 8.21900662e-01 3.62611780e-01\n",
      " 6.80702468e-01 1.94450291e-01 7.15504982e-01 3.34611512e-01\n",
      " 3.68050279e-02 6.75371549e-01 8.66489494e-01 3.12524010e-01\n",
      " 7.86751684e-01 1.15410472e-04 4.61646787e-01 2.09148507e-01\n",
      " 5.38922020e-01 6.27257879e-01 9.32836344e-01 1.12284610e-01\n",
      " 7.05728916e-01 4.26887953e-01 5.59745036e-02 9.00750284e-01\n",
      " 6.84084559e-02 4.62603167e-02 9.00557552e-01 1.27567576e-01\n",
      " 4.87011955e-01 7.95321982e-01 8.75783107e-01 7.86754692e-01\n",
      " 4.72103923e-01 4.12549331e-02 7.23862188e-01 9.62695811e-01\n",
      " 2.75889744e-01 3.69689971e-01 4.40711814e-01 5.83643490e-01\n",
      " 6.05827992e-01 5.35109892e-01 9.31348362e-01 2.34336609e-01\n",
      " 3.26416601e-01 7.82638465e-01 1.31707242e-01 3.40025110e-01\n",
      " 7.00959408e-01 9.53288618e-01 1.31739658e-01 7.74351657e-01\n",
      " 1.80363329e-01 3.03144150e-01 7.22542829e-01 3.81120000e-01\n",
      " 9.23990192e-01 2.67259864e-01 2.01471164e-01 4.54141659e-01\n",
      " 1.16327406e-01 4.98868265e-01 2.92459816e-01 8.26472744e-01\n",
      " 9.05264751e-01 5.72303087e-02 3.34269615e-01 6.84087723e-01\n",
      " 7.28876192e-01 3.78973885e-01 4.67632404e-01 1.43447524e-01\n",
      " 6.02015183e-01 3.61413115e-01 2.29436654e-01 7.56643310e-01\n",
      " 6.35197942e-01 5.55146634e-01 5.67710621e-01 3.65500906e-01\n",
      " 3.50763718e-01 9.48872461e-01 6.53368637e-01 9.42869809e-01\n",
      " 2.88583267e-01 1.02111926e-01 3.29204047e-01 2.45402087e-01\n",
      " 6.27130596e-01 8.75845352e-03 9.43420359e-01 2.55191936e-01\n",
      " 3.02016992e-01 4.12391240e-01 1.21790788e-01 1.65220226e-01\n",
      " 1.46263118e-01 5.50540277e-02 5.43061946e-01 5.96664547e-01\n",
      " 2.58801952e-01 4.44868485e-01 1.80778923e-02 3.30044341e-01\n",
      " 1.99372440e-01 5.42501352e-01 2.71107367e-01 1.86504870e-01\n",
      " 9.01396530e-01 8.67933102e-01 2.48562939e-01 9.70839456e-01\n",
      " 5.72806642e-01 3.62925273e-01 4.00893848e-01 1.03901531e-01\n",
      " 3.43146314e-01 1.18861634e-01 3.32104763e-01 1.24642860e-01\n",
      " 5.17685718e-01 6.14961120e-02 1.02144301e-01 3.40718178e-02\n",
      " 2.33521089e-02 3.92692293e-01 8.13420727e-01 8.88860838e-01\n",
      " 9.28088302e-01 5.38939260e-01 9.38706784e-02 4.47374893e-01\n",
      " 3.46534594e-01 6.05000754e-01 9.42292093e-01 1.07752722e-01\n",
      " 2.92533776e-01 7.50420836e-01 4.84228283e-01 3.47243673e-01\n",
      " 4.09030724e-01 1.34090209e-01 4.16469049e-01 6.08084306e-01\n",
      " 7.76602688e-01 3.12599166e-01 1.84550347e-01 6.17776049e-01\n",
      " 2.25780245e-01 9.87713221e-01 5.95941612e-02 7.30274870e-01\n",
      " 4.65258660e-01 7.33632137e-01 9.95277963e-02 5.48500717e-01\n",
      " 4.45337477e-01 3.25316843e-01 2.44867986e-01 8.53605188e-01\n",
      " 4.35034701e-01 8.80302168e-01 2.65683233e-01 3.67204117e-01\n",
      " 2.15067288e-01 8.56457885e-01 3.41523303e-01 9.71970155e-02\n",
      " 3.20448586e-01 3.45299985e-01 4.73079465e-01 5.22097467e-01\n",
      " 3.53561702e-01 8.11282724e-01 9.34096113e-01 5.15855662e-01\n",
      " 7.40479401e-01 4.14715766e-02 8.63236841e-01 2.37266715e-01\n",
      " 6.82094620e-02 1.17342200e-02 2.45898933e-01 2.75758407e-01\n",
      " 8.99066701e-01 5.06750721e-01 9.81319055e-01 9.48752875e-01\n",
      " 2.37200642e-02 1.75577649e-01 6.83192774e-01 9.94788589e-01\n",
      " 8.04657373e-01 2.76329113e-01 1.09386320e-01 5.97318839e-01\n",
      " 7.86233020e-01 9.07675322e-01 2.24524230e-02 7.87465364e-01\n",
      " 2.33859028e-01 6.63850356e-01 8.83819991e-01 5.60531849e-02\n",
      " 9.07478823e-01 8.39503811e-01 5.65017166e-01 1.20677130e-01\n",
      " 9.64570026e-01 2.61050357e-01 4.16735270e-01 4.83574271e-01\n",
      " 9.73836770e-01 3.14545088e-01 1.57581128e-01 2.86639296e-01\n",
      " 8.35486372e-01 1.26639139e-01 4.35322312e-01 2.24483073e-01\n",
      " 6.97528357e-01 9.97841450e-01 6.23134444e-01 1.83339747e-01\n",
      " 4.46200471e-01 7.61109143e-01 8.40990431e-01 3.18415768e-01\n",
      " 7.08558100e-01 3.10010137e-01 6.67209982e-01 9.93367981e-03\n",
      " 3.92459305e-01 8.85322276e-02 2.18540277e-01 8.36491260e-01\n",
      " 1.88072639e-01 2.17916419e-01 7.44095726e-02 6.56850385e-01\n",
      " 2.33447946e-02 8.79243602e-01 2.63328363e-01 8.86720877e-03\n",
      " 3.92206669e-01 7.05624422e-01 9.00836939e-01 4.38102600e-01\n",
      " 7.14304822e-01 6.59138559e-01 3.26777842e-01 4.99191774e-01\n",
      " 3.16507817e-01 4.95866911e-04 9.91978057e-01 6.76700091e-01\n",
      " 1.89512942e-01 4.93952256e-01 4.17602055e-01 2.15769670e-01\n",
      " 8.32281636e-01 6.99840701e-01 6.73033021e-02 9.43622094e-01\n",
      " 5.04491593e-01 6.72647586e-01 8.84666011e-01 2.88365148e-01\n",
      " 8.67846698e-01 9.03434404e-01 3.53173548e-01 4.45378010e-01\n",
      " 6.92038514e-01 3.41706515e-01 6.11067095e-01 4.84851945e-01\n",
      " 5.23330471e-01 6.99429008e-01 9.88320628e-01 8.09581589e-01\n",
      " 2.96906156e-01 6.00095109e-01 7.98710920e-01 4.67548550e-01\n",
      " 6.90539969e-03 7.67708231e-01 7.81894057e-01 4.43034799e-01\n",
      " 9.15470135e-01 1.25146351e-01 1.17995772e-01 2.49421860e-01\n",
      " 6.88215265e-01 4.85354875e-01 4.15550702e-01 5.09572952e-01\n",
      " 9.51782840e-03 7.73530078e-01 2.01471065e-01 9.68234822e-01\n",
      " 8.18285996e-01 5.14393612e-01 5.49242885e-02 4.73918961e-01\n",
      " 2.20646667e-01 4.21393032e-01 9.39975558e-01 9.25620877e-01\n",
      " 4.24034409e-01 7.60621243e-02 9.87547405e-01 1.25075932e-01\n",
      " 3.31798625e-01 3.66753133e-04 3.82161370e-01 2.80072112e-01\n",
      " 2.43313272e-01 7.36066262e-02 3.59893232e-01 1.95848275e-01\n",
      " 5.94990538e-03 2.73075941e-01 1.99056134e-02 8.95567948e-01\n",
      " 1.06019467e-01 7.11527879e-01 4.53989590e-01 2.60931715e-02\n",
      " 1.06490326e-01 8.31891911e-01 3.98072957e-01 9.28885675e-01\n",
      " 6.64317965e-01 3.71841659e-01 3.09103631e-01 8.67689362e-01\n",
      " 6.17893485e-01 8.33255092e-02 3.62875021e-01 6.95967948e-01\n",
      " 1.45530274e-01 2.71234029e-01 5.60197679e-02 3.88976388e-01\n",
      " 9.79223642e-01 7.27015176e-01 2.61346679e-01 9.75087657e-01\n",
      " 3.20428826e-01 4.98011651e-01 8.22524477e-02 6.80190825e-01\n",
      " 2.57644199e-01 5.84798363e-01 3.85016877e-01 4.69239103e-01\n",
      " 9.40329240e-01 9.84778128e-01 4.38662168e-01 1.10539383e-01\n",
      " 8.04587992e-01 2.84042259e-01 3.62072110e-01 5.56439396e-01\n",
      " 5.69972172e-01 3.41231362e-01 2.17868057e-01 2.47934739e-02\n",
      " 8.79636809e-01 4.15294011e-01 3.73684627e-01 7.37512347e-02\n",
      " 8.75045149e-01 6.98688754e-01 3.50107300e-01 9.09917366e-01\n",
      " 3.51303200e-01 6.80963907e-01 7.52899082e-01 8.88805242e-01\n",
      " 9.94620341e-02 4.77142306e-01 7.53373813e-01 2.92631977e-01\n",
      " 4.59002400e-01 4.63930880e-01 1.88157303e-01 6.71714785e-01\n",
      " 4.94533793e-01 6.13710773e-02 8.96211620e-03 2.26310269e-01\n",
      " 1.13569000e-01 5.94550743e-01 5.56937748e-01 2.99781088e-01\n",
      " 7.11286305e-02 5.19658076e-01 1.72832938e-01 9.52116486e-01\n",
      " 1.38050059e-01 3.04178890e-01 4.02724620e-01 1.87248348e-01\n",
      " 2.83402989e-01 6.47150517e-01 4.53341427e-01 7.10629570e-01\n",
      " 7.37916858e-01 6.83029474e-01 8.07269426e-01 9.46802242e-01\n",
      " 5.35443516e-01 2.62183484e-01 8.90975619e-01 9.07476844e-01\n",
      " 9.40530491e-01 2.06046161e-01 9.70273032e-01 2.09838431e-01\n",
      " 8.89378329e-01 6.84841010e-01 8.26584013e-02 2.46870604e-01\n",
      " 2.59182520e-01 8.20893527e-01 7.19470222e-01 3.22677974e-01\n",
      " 1.69547006e-01 8.49166635e-01 3.54386298e-01 9.44638224e-01\n",
      " 9.33974127e-01 1.44759402e-01 3.57191748e-01 5.05637740e-01\n",
      " 5.95404947e-01 1.95250135e-03 3.05866094e-01 6.29280270e-02\n",
      " 2.94933116e-01 7.01994912e-01 6.04086605e-01 4.52956826e-01\n",
      " 6.42724190e-01 7.81655011e-01 5.99806166e-02 8.36908692e-01\n",
      " 9.41844283e-01 9.57493244e-02 6.40628878e-01 8.85242011e-01\n",
      " 8.82956765e-01 9.70435020e-01 3.58574333e-01 8.94623455e-01\n",
      " 2.92449645e-01 9.59847955e-01 2.29424404e-01 2.19633471e-03\n",
      " 9.95806083e-01 5.94079277e-01 1.79095757e-01 8.20900535e-01\n",
      " 2.41841102e-01 6.49861416e-01 2.98995532e-01 3.60784705e-01\n",
      " 3.04009893e-01 2.75082981e-01 6.46633122e-01 1.79186104e-01\n",
      " 1.13631592e-02 8.15516565e-01 6.19450839e-01 1.60186220e-01\n",
      " 7.42691171e-02 3.45032304e-01 5.41795030e-01 8.61502835e-01\n",
      " 7.92649412e-01 5.92983524e-01 1.68717971e-01 9.09830544e-01\n",
      " 1.06931639e-01 7.88394010e-01 3.33891559e-01 6.23547763e-01\n",
      " 8.04810638e-01 2.08182287e-01 3.08031360e-01 1.17157353e-01\n",
      " 9.17948903e-01 8.14708575e-01 8.87971231e-01 8.08852272e-01\n",
      " 5.64905544e-01 8.39395465e-01 1.55018492e-01 6.49197356e-01\n",
      " 9.93063936e-01 1.67896546e-01 6.79862383e-01 2.05988491e-01\n",
      " 2.88149657e-01 1.10289454e-02 3.13203832e-01 9.65865222e-01\n",
      " 3.13222888e-01 4.39680103e-01 9.77762007e-01 8.67114078e-02\n",
      " 4.93073295e-01 1.43843146e-01 7.30431777e-01 1.07007073e-01\n",
      " 6.26894994e-01 8.31626889e-01 2.42903870e-02 8.54733271e-01\n",
      " 2.53516317e-01 1.85100696e-01 7.06732835e-01 7.11623974e-01\n",
      " 6.94295529e-01 2.29929211e-01 3.44808767e-01 9.04394888e-02\n",
      " 2.52763336e-01 4.50830590e-01 2.92582736e-01 8.16322463e-01\n",
      " 8.20057348e-01 2.47827021e-01 6.03962061e-01 5.88860497e-01\n",
      " 9.23626930e-01 3.03675659e-01 7.70195553e-01 9.52382694e-01\n",
      " 5.87771752e-01 4.45830391e-01 3.17540284e-01 8.17618862e-01\n",
      " 6.57363499e-01 3.76941622e-01 6.92177944e-01 5.83128559e-01\n",
      " 6.42367220e-01 1.55513001e-01 7.72786501e-01 7.63716798e-01\n",
      " 8.83272375e-03 6.23801379e-01 5.52654625e-01 3.57952987e-01\n",
      " 4.02204899e-01 7.66511782e-01 6.72682221e-01 8.62033293e-01\n",
      " 7.15310506e-01 8.43389616e-01 7.67355758e-01 6.53404109e-01\n",
      " 3.87868846e-01 2.15351941e-01 9.53490508e-01 3.68761602e-02\n",
      " 3.79766367e-01 4.25802720e-02 4.99554003e-02 8.56643128e-01\n",
      " 3.26906408e-02 6.16917436e-01 6.59591143e-01 2.09695339e-01\n",
      " 1.62572375e-01 9.84637164e-01 6.30263193e-01 7.77449355e-01\n",
      " 9.11768632e-01 1.71113498e-01 3.94650630e-01 2.93957288e-01\n",
      " 3.62288593e-01 3.24560791e-01 5.90521396e-01 5.73966763e-02\n",
      " 2.80079955e-02 4.00845327e-01 9.22543654e-01 3.17757967e-01\n",
      " 3.82762623e-01 9.20839232e-01 4.74123015e-01 5.13833613e-01\n",
      " 6.45393060e-01 7.76714490e-01 6.68496136e-01 4.84869499e-01\n",
      " 1.30379505e-01 1.91173874e-01 8.08701474e-01 6.40682129e-01\n",
      " 7.80757917e-01 5.96142168e-01 2.58388176e-01 9.45757936e-02\n",
      " 4.95689165e-01 2.15082294e-01 6.39015157e-01 6.01686522e-01\n",
      " 8.50104213e-01 9.29555398e-02 9.45731753e-01 3.28489809e-01\n",
      " 5.26011516e-01 1.93060499e-01 5.69546391e-02 2.18064648e-01\n",
      " 2.67528407e-01 4.02602600e-01 4.72662784e-01 8.99097119e-01\n",
      " 7.23696984e-01 5.82609352e-01 4.60430386e-01 5.50632449e-01\n",
      " 4.38724168e-01 9.35375856e-01 7.41312616e-01 3.80745402e-01\n",
      " 2.40863964e-01 8.98174902e-03 3.44177735e-01 6.46272702e-01\n",
      " 2.27382967e-01 5.26128248e-02 2.84300530e-01 9.44884255e-01\n",
      " 1.32043439e-01 2.00779828e-01 7.99096989e-01 9.47718562e-01\n",
      " 3.27149864e-01 8.36681604e-01 7.28265796e-02 3.46999649e-01\n",
      " 6.19070033e-01 1.48741480e-01 3.09740446e-01 4.80768252e-01\n",
      " 2.17944014e-01 5.12827226e-01 2.15273679e-01 8.11321005e-01\n",
      " 8.74031982e-01 8.63799928e-01 2.36078559e-02 7.68623579e-01\n",
      " 8.73959743e-01 4.99570576e-02 1.60581032e-02 4.10608748e-02\n",
      " 3.00530156e-01 5.28864050e-01 5.56934017e-01 8.62405608e-01\n",
      " 4.48981352e-01 8.87211110e-01 1.48907417e-01 7.55681182e-01\n",
      " 1.89683320e-02 6.97669379e-01 2.65395828e-01 4.60564843e-01\n",
      " 3.18674514e-01 6.67117605e-01 1.47980767e-01 1.10591477e-01\n",
      " 8.09264567e-02 8.40443863e-01 2.19411074e-01 9.59997512e-01\n",
      " 4.72439832e-01 7.70550924e-01 3.87723184e-01 1.99719341e-01\n",
      " 3.00091234e-01 2.02236977e-01 6.11071372e-02 5.53081668e-01\n",
      " 6.79093922e-01 3.21431704e-02 8.55364976e-03 2.36326867e-01\n",
      " 4.03029148e-01 4.44630077e-01 3.05952795e-01 2.69899810e-01\n",
      " 4.97986041e-01 5.36954609e-02 7.70928847e-01 3.52527433e-01\n",
      " 8.52969069e-02 6.32214722e-01 8.54925085e-01 4.47747266e-01\n",
      " 2.31844177e-01 9.84688351e-01 8.40070076e-01 2.25638949e-01\n",
      " 8.41461695e-01 4.69662339e-01 5.04825684e-01 9.16345396e-02\n",
      " 5.41119981e-01 9.96577679e-01 2.84880717e-01 1.44348558e-01\n",
      " 4.02154876e-01 7.10217902e-01 7.73588240e-01 9.53377569e-01\n",
      " 4.41341734e-01 8.57805147e-01 1.96091764e-01 6.18704712e-01\n",
      " 7.25061748e-01 3.09166031e-01 1.43673384e-01 3.69984206e-01\n",
      " 8.13351356e-01 7.23735346e-01 7.24626037e-01 6.41705624e-01\n",
      " 5.11309716e-01 5.90444995e-01 9.31786344e-01 2.05747293e-01\n",
      " 2.12369249e-01 2.27830428e-01 1.57289688e-01 1.68156914e-01\n",
      " 8.77642020e-01 1.49191401e-01 3.74615953e-01 8.69996542e-01\n",
      " 6.54420984e-01 5.02293036e-02 5.49872476e-01 4.18765621e-01\n",
      " 3.41992308e-01 9.05226968e-01 2.40399920e-01 7.36896329e-01\n",
      " 9.92505269e-01 8.26233839e-01 3.29926092e-01 3.37440474e-01\n",
      " 7.60388350e-01 7.35838500e-02 4.10332385e-01 9.50947840e-01\n",
      " 9.08694913e-01 8.70753001e-01 3.34520417e-01 9.50980806e-01\n",
      " 8.93628768e-01 6.42453835e-01 3.94584113e-01 5.26992579e-02\n",
      " 7.57528796e-01 9.28774759e-01 7.25146985e-01 8.43347762e-01\n",
      " 9.36566109e-01 4.48659672e-01 6.16688619e-01 5.38778189e-01\n",
      " 7.29019223e-02 7.06927607e-01 7.03058001e-01 4.99885325e-01\n",
      " 5.69486065e-01 3.11914610e-01 3.91999671e-01 5.87126537e-01\n",
      " 2.40213529e-01 8.77841852e-01 3.48928683e-01 3.76494832e-01\n",
      " 1.32915361e-01 6.12064815e-01 9.59053533e-01 1.07483156e-01\n",
      " 1.39627117e-01 4.77017592e-01 9.23433327e-01 3.36806873e-01\n",
      " 6.63306824e-01 7.39204115e-01 7.28668392e-01 4.62048809e-02\n",
      " 6.60116332e-01 9.18849738e-01 2.60827787e-01 8.01729210e-01\n",
      " 2.37942544e-01 3.44875297e-01 5.01165772e-01 2.65628862e-01\n",
      " 8.45583751e-01 1.43420744e-01 8.21609451e-01 8.20318804e-01\n",
      " 7.41231882e-01 8.73428471e-02 1.82147715e-01 4.94778620e-01\n",
      " 5.88704025e-01 5.81879742e-01 4.38662275e-01 8.41879103e-01\n",
      " 1.06354471e-03 1.97177264e-02 2.77828866e-01 1.41887381e-01\n",
      " 5.93861473e-01 4.93664509e-01 5.49168556e-01 3.66628921e-01\n",
      " 2.54599419e-01 6.55530563e-01 2.53261218e-01 4.32020983e-01\n",
      " 1.25495258e-01 7.09654045e-01 2.94048926e-01 3.12039528e-01\n",
      " 7.11793748e-01 1.27671608e-01 7.09159784e-01 4.21990192e-01\n",
      " 1.90220147e-01 8.75004491e-01 4.19785850e-02 6.69354348e-01\n",
      " 6.17676786e-01 2.38516230e-02 7.57968595e-02 5.37558390e-01\n",
      " 6.51581072e-02 2.12441742e-01 2.51103188e-01 3.91662327e-01\n",
      " 5.24911159e-01 2.45255184e-02 7.45611329e-01 5.64560929e-01\n",
      " 3.66286168e-01 6.67413254e-01 5.12839659e-01 7.01317388e-01\n",
      " 1.93647031e-01 5.56252811e-01 1.30863442e-01 5.81829172e-01\n",
      " 3.79706640e-01 9.90436934e-01 5.34618234e-01 2.15715510e-01\n",
      " 9.27181404e-01 8.33637978e-01 9.57815331e-02 7.70590412e-01\n",
      " 6.56833876e-01 1.46120847e-01 4.20660625e-03 4.84929188e-01\n",
      " 4.91781402e-01 4.30509047e-01 1.57255799e-01 9.32645434e-01\n",
      " 7.46849751e-01 8.07727497e-02 5.48875731e-01 8.80498329e-01\n",
      " 8.51027232e-01 5.36880873e-01 2.62545694e-01 1.22278138e-01\n",
      " 4.33167037e-01 3.70071154e-01 8.98491609e-01 9.70693002e-01\n",
      " 1.03419712e-01 6.31141791e-01 3.08104718e-01 1.79592826e-02\n",
      " 3.97669652e-01 8.03186954e-02 9.67343561e-01 5.03902513e-01\n",
      " 6.03745528e-01 4.54147659e-01 3.91223797e-01 8.38283952e-01]\n"
     ]
    }
   ],
   "source": [
    "#np.set_printoptions(threshold=np.inf)\n",
    "Z = np.random.random(1000)\n",
    "print(Z)"
   ]
  },
  {
   "cell_type": "markdown",
   "metadata": {},
   "source": [
    "#### 50. How to find the closest value (to a given scalar) in a vector? (★★☆)"
   ]
  },
  {
   "cell_type": "code",
   "execution_count": 145,
   "metadata": {},
   "outputs": [
    {
     "data": {
      "text/plain": [
       "0.6099906106406638"
      ]
     },
     "execution_count": 145,
     "metadata": {},
     "output_type": "execute_result"
    }
   ],
   "source": [
    "Z = np.random.random((100, 100))\n",
    "v = 0.61\n",
    "delta = np.unravel_index(np.argmin(np.abs(Z - v)), Z.shape)\n",
    "Z[delta]"
   ]
  },
  {
   "cell_type": "markdown",
   "metadata": {},
   "source": [
    "#### 51. Create a structured array representing a position (x,y) and a color (r,g,b) (★★☆)"
   ]
  },
  {
   "cell_type": "code",
   "execution_count": 136,
   "metadata": {},
   "outputs": [],
   "source": [
    "dt_p = np.dtype([(\"x\", \"<f4\"), (\"y\", \"<f4\")])\n",
    "dt_c = np.dtype([(\"r\", \"u1\"), (\"g\", \"u1\"), (\"b\", \"u1\")])\n",
    "dt = np.dtype([(\"position\", dt_p), (\"color\", dt_c)])"
   ]
  },
  {
   "cell_type": "markdown",
   "metadata": {},
   "source": [
    "#### 52. Consider a random vector with shape (100,2) representing coordinates, find point by point distances (★★☆)"
   ]
  },
  {
   "cell_type": "code",
   "execution_count": null,
   "metadata": {},
   "outputs": [],
   "source": []
  },
  {
   "cell_type": "markdown",
   "metadata": {},
   "source": [
    "#### 53. How to convert a float (32 bits) array into an integer (32 bits) in place?"
   ]
  },
  {
   "cell_type": "code",
   "execution_count": null,
   "metadata": {},
   "outputs": [],
   "source": []
  },
  {
   "cell_type": "markdown",
   "metadata": {},
   "source": [
    "#### 54. How to read the following file? (★★☆)"
   ]
  },
  {
   "cell_type": "markdown",
   "metadata": {},
   "source": [
    "```\n",
    "1, 2, 3, 4, 5\n",
    "6,  ,  , 7, 8\n",
    " ,  , 9,10,11\n",
    "```"
   ]
  },
  {
   "cell_type": "code",
   "execution_count": null,
   "metadata": {},
   "outputs": [],
   "source": []
  },
  {
   "cell_type": "markdown",
   "metadata": {},
   "source": [
    "#### 55. What is the equivalent of enumerate for numpy arrays? (★★☆)"
   ]
  },
  {
   "cell_type": "code",
   "execution_count": null,
   "metadata": {},
   "outputs": [],
   "source": []
  },
  {
   "cell_type": "markdown",
   "metadata": {},
   "source": [
    "#### 56. Generate a generic 2D Gaussian-like array (★★☆)"
   ]
  },
  {
   "cell_type": "code",
   "execution_count": null,
   "metadata": {},
   "outputs": [],
   "source": []
  },
  {
   "cell_type": "markdown",
   "metadata": {},
   "source": [
    "#### 57. How to randomly place p elements in a 2D array? (★★☆)"
   ]
  },
  {
   "cell_type": "code",
   "execution_count": null,
   "metadata": {},
   "outputs": [],
   "source": []
  },
  {
   "cell_type": "markdown",
   "metadata": {},
   "source": [
    "#### 58. Subtract the mean of each row of a matrix (★★☆)"
   ]
  },
  {
   "cell_type": "code",
   "execution_count": 148,
   "metadata": {},
   "outputs": [
    {
     "data": {
      "text/plain": [
       "array([[-0.36161723, -0.10178186,  0.36603334,  0.48375509, -0.22403909,\n",
       "         0.21073356, -0.17537835,  0.14951557,  0.12113868,  0.20607069],\n",
       "       [ 0.04302455, -0.09321373, -0.5681908 ,  0.21652102, -0.1285788 ,\n",
       "         0.23538868,  0.08302808,  0.01250702, -0.12000777,  0.40206644],\n",
       "       [ 0.04254638,  0.27358306, -0.4883024 ,  0.04563193,  0.03878744,\n",
       "        -0.04862411,  0.22689358,  0.42233565,  0.34333062,  0.42641462],\n",
       "       [-0.17880203, -0.45226342, -0.60137844,  0.51979739,  0.34545309,\n",
       "         0.30480851, -0.40646855, -0.31142838,  0.34871235, -0.35410619],\n",
       "       [-0.26804078,  0.0957622 , -0.0269478 , -0.06917759, -0.22905402,\n",
       "        -0.46086139,  0.10291264,  0.2590359 , -0.37506931, -0.12655484],\n",
       "       [-0.26423259,  0.11107983,  0.02024041,  0.02218282,  0.54959875,\n",
       "         0.26302043, -0.21103711,  0.13083437, -0.40831477,  0.02022182],\n",
       "       [-0.48457505, -0.02904235,  0.02921562, -0.23507066, -0.37180422,\n",
       "         0.32847173,  0.32315798, -0.21432824,  0.34983715,  0.24064196],\n",
       "       [ 0.25490193, -0.07376494,  0.19062632, -0.19453265, -0.15273752,\n",
       "         0.10050049, -0.02072791, -0.16918362, -0.27193848,  0.31125726],\n",
       "       [ 0.36336769,  0.33434596, -0.05680435, -0.27560562,  0.17391278,\n",
       "        -0.09743557,  0.31073268, -0.29842426, -0.496992  ,  0.40778738],\n",
       "       [-0.36778278, -0.23972038, -0.55216104,  0.43564344,  0.16903071,\n",
       "         0.09497297,  0.02795175, -0.46294446,  0.09312316,  0.13660202]])"
      ]
     },
     "execution_count": 148,
     "metadata": {},
     "output_type": "execute_result"
    }
   ],
   "source": [
    "Z = np.random.random((10, 10))\n",
    "Z -= np.mean(Z, -1)\n",
    "Z"
   ]
  },
  {
   "cell_type": "markdown",
   "metadata": {},
   "source": [
    "#### 59. How to sort an array by the nth column? (★★☆)"
   ]
  },
  {
   "cell_type": "code",
   "execution_count": null,
   "metadata": {},
   "outputs": [],
   "source": []
  },
  {
   "cell_type": "markdown",
   "metadata": {},
   "source": [
    "#### 60. How to tell if a given 2D array has null columns? (★★☆)"
   ]
  },
  {
   "cell_type": "code",
   "execution_count": 150,
   "metadata": {},
   "outputs": [
    {
     "data": {
      "text/plain": [
       "False"
      ]
     },
     "execution_count": 150,
     "metadata": {},
     "output_type": "execute_result"
    }
   ],
   "source": [
    "Z = np.random.random((10, 10))\n",
    "np.any(np.all(Z, axis = 0) == 0)"
   ]
  },
  {
   "cell_type": "markdown",
   "metadata": {},
   "source": [
    "#### 61. Find the nearest value from a given value in an array (★★☆)"
   ]
  },
  {
   "cell_type": "code",
   "execution_count": null,
   "metadata": {},
   "outputs": [],
   "source": []
  },
  {
   "cell_type": "markdown",
   "metadata": {},
   "source": [
    "#### 62. Considering two arrays with shape (1,3) and (3,1), how to compute their sum using an iterator? (★★☆)"
   ]
  },
  {
   "cell_type": "code",
   "execution_count": null,
   "metadata": {},
   "outputs": [],
   "source": []
  },
  {
   "cell_type": "markdown",
   "metadata": {},
   "source": [
    "#### 63. Create an array class that has a name attribute (★★☆)"
   ]
  },
  {
   "cell_type": "code",
   "execution_count": null,
   "metadata": {},
   "outputs": [],
   "source": []
  },
  {
   "cell_type": "markdown",
   "metadata": {},
   "source": [
    "#### 64. Consider a given vector, how to add 1 to each element indexed by a second vector (be careful with repeated indices)? (★★★)"
   ]
  },
  {
   "cell_type": "code",
   "execution_count": null,
   "metadata": {},
   "outputs": [],
   "source": []
  },
  {
   "cell_type": "markdown",
   "metadata": {},
   "source": [
    "#### 65. How to accumulate elements of a vector (X) to an array (F) based on an index list (I)? (★★★)"
   ]
  },
  {
   "cell_type": "code",
   "execution_count": null,
   "metadata": {},
   "outputs": [],
   "source": []
  },
  {
   "cell_type": "markdown",
   "metadata": {},
   "source": [
    "#### 66. Considering a (w,h,3) image of (dtype=ubyte), compute the number of unique colors (★★★)"
   ]
  },
  {
   "cell_type": "code",
   "execution_count": null,
   "metadata": {},
   "outputs": [],
   "source": []
  },
  {
   "cell_type": "markdown",
   "metadata": {},
   "source": [
    "#### 67. Considering a four dimensions array, how to get sum over the last two axis at once? (★★★)"
   ]
  },
  {
   "cell_type": "code",
   "execution_count": 155,
   "metadata": {},
   "outputs": [
    {
     "data": {
      "text/plain": [
       "(4, 3)"
      ]
     },
     "execution_count": 155,
     "metadata": {},
     "output_type": "execute_result"
    }
   ],
   "source": [
    "Z = np.random.random((4,3,2,5))\n",
    "np.add.reduce(Z, axis=(-2, -1)).shape"
   ]
  },
  {
   "cell_type": "markdown",
   "metadata": {},
   "source": [
    "#### 68. Considering a one-dimensional vector D, how to compute means of subsets of D using a vector S of same size describing subset  indices? (★★★)"
   ]
  },
  {
   "cell_type": "code",
   "execution_count": 156,
   "metadata": {},
   "outputs": [
    {
     "data": {
      "text/plain": [
       "0.49863044412230617"
      ]
     },
     "execution_count": 156,
     "metadata": {},
     "output_type": "execute_result"
    }
   ],
   "source": [
    "Z = np.random.random(300)\n",
    "i = np.arange(3, 39)\n",
    "np.mean(Z[i])"
   ]
  },
  {
   "cell_type": "markdown",
   "metadata": {},
   "source": [
    "#### 69. How to get the diagonal of a dot product? (★★★)"
   ]
  },
  {
   "cell_type": "code",
   "execution_count": null,
   "metadata": {},
   "outputs": [],
   "source": []
  },
  {
   "cell_type": "markdown",
   "metadata": {},
   "source": [
    "#### 70. Consider the vector \\[1, 2, 3, 4, 5\\], how to build a new vector with 3 consecutive zeros interleaved between each value? (★★★)"
   ]
  },
  {
   "cell_type": "code",
   "execution_count": null,
   "metadata": {},
   "outputs": [],
   "source": []
  },
  {
   "cell_type": "markdown",
   "metadata": {},
   "source": [
    "#### 71. Consider an array of dimension (5,5,3), how to mulitply it by an array with dimensions (5,5)? (★★★)"
   ]
  },
  {
   "cell_type": "code",
   "execution_count": null,
   "metadata": {
    "collapsed": true
   },
   "outputs": [],
   "source": []
  },
  {
   "cell_type": "markdown",
   "metadata": {},
   "source": [
    "#### 72. How to swap two rows of an array? (★★★)"
   ]
  },
  {
   "cell_type": "code",
   "execution_count": null,
   "metadata": {},
   "outputs": [],
   "source": []
  },
  {
   "cell_type": "markdown",
   "metadata": {},
   "source": [
    "#### 73. Consider a set of 10 triplets describing 10 triangles (with shared vertices), find the set of unique line segments composing all the  triangles (★★★)"
   ]
  },
  {
   "cell_type": "code",
   "execution_count": null,
   "metadata": {},
   "outputs": [],
   "source": []
  },
  {
   "cell_type": "markdown",
   "metadata": {},
   "source": [
    "#### 74. Given an array C that is a bincount, how to produce an array A such that np.bincount(A) == C? (★★★)"
   ]
  },
  {
   "cell_type": "code",
   "execution_count": null,
   "metadata": {},
   "outputs": [],
   "source": []
  },
  {
   "cell_type": "markdown",
   "metadata": {},
   "source": [
    "#### 75. How to compute averages using a sliding window over an array? (★★★)"
   ]
  },
  {
   "cell_type": "code",
   "execution_count": null,
   "metadata": {},
   "outputs": [],
   "source": []
  },
  {
   "cell_type": "markdown",
   "metadata": {},
   "source": [
    "#### 76. Consider a one-dimensional array Z, build a two-dimensional array whose first row is (Z\\[0\\],Z\\[1\\],Z\\[2\\]) and each subsequent row is  shifted by 1 (last row should be (Z\\[-3\\],Z\\[-2\\],Z\\[-1\\]) (★★★)"
   ]
  },
  {
   "cell_type": "code",
   "execution_count": null,
   "metadata": {},
   "outputs": [],
   "source": []
  },
  {
   "cell_type": "markdown",
   "metadata": {},
   "source": [
    "#### 77. How to negate a boolean, or to change the sign of a float inplace? (★★★)"
   ]
  },
  {
   "cell_type": "code",
   "execution_count": null,
   "metadata": {},
   "outputs": [],
   "source": []
  },
  {
   "cell_type": "markdown",
   "metadata": {},
   "source": [
    "#### 78. Consider 2 sets of points P0,P1 describing lines (2d) and a point p, how to compute distance from p to each line i  (P0\\[i\\],P1\\[i\\])? (★★★)"
   ]
  },
  {
   "cell_type": "code",
   "execution_count": null,
   "metadata": {},
   "outputs": [],
   "source": []
  },
  {
   "cell_type": "markdown",
   "metadata": {},
   "source": [
    "#### 79. Consider 2 sets of points P0,P1 describing lines (2d) and a set of points P, how to compute distance from each point j (P\\[j\\]) to each line i (P0\\[i\\],P1\\[i\\])? (★★★)"
   ]
  },
  {
   "cell_type": "code",
   "execution_count": null,
   "metadata": {},
   "outputs": [],
   "source": []
  },
  {
   "cell_type": "markdown",
   "metadata": {},
   "source": [
    "#### 80. Consider an arbitrary array, write a function that extract a subpart with a fixed shape and centered on a given element (pad with a `fill` value when necessary) (★★★)"
   ]
  },
  {
   "cell_type": "code",
   "execution_count": null,
   "metadata": {},
   "outputs": [],
   "source": []
  },
  {
   "cell_type": "markdown",
   "metadata": {},
   "source": [
    "#### 81. Consider an array Z = \\[1,2,3,4,5,6,7,8,9,10,11,12,13,14\\], how to generate an array R = \\[\\[1,2,3,4\\], \\[2,3,4,5\\], \\[3,4,5,6\\], ..., \\[11,12,13,14\\]\\]? (★★★)"
   ]
  },
  {
   "cell_type": "code",
   "execution_count": null,
   "metadata": {},
   "outputs": [],
   "source": []
  },
  {
   "cell_type": "markdown",
   "metadata": {},
   "source": [
    "#### 82. Compute a matrix rank (★★★)"
   ]
  },
  {
   "cell_type": "code",
   "execution_count": null,
   "metadata": {},
   "outputs": [],
   "source": []
  },
  {
   "cell_type": "markdown",
   "metadata": {},
   "source": [
    "#### 83. How to find the most frequent value in an array?"
   ]
  },
  {
   "cell_type": "code",
   "execution_count": null,
   "metadata": {},
   "outputs": [],
   "source": []
  },
  {
   "cell_type": "markdown",
   "metadata": {},
   "source": [
    "#### 84. Extract all the contiguous 3x3 blocks from a random 10x10 matrix (★★★)"
   ]
  },
  {
   "cell_type": "code",
   "execution_count": null,
   "metadata": {},
   "outputs": [],
   "source": []
  },
  {
   "cell_type": "markdown",
   "metadata": {},
   "source": [
    "#### 85. Create a 2D array subclass such that Z\\[i,j\\] == Z\\[j,i\\] (★★★)"
   ]
  },
  {
   "cell_type": "code",
   "execution_count": null,
   "metadata": {},
   "outputs": [],
   "source": []
  },
  {
   "cell_type": "markdown",
   "metadata": {},
   "source": [
    "#### 86. Consider a set of p matrices wich shape (n,n) and a set of p vectors with shape (n,1). How to compute the sum of of the p matrix products at once? (result has shape (n,1)) (★★★)"
   ]
  },
  {
   "cell_type": "code",
   "execution_count": null,
   "metadata": {},
   "outputs": [],
   "source": []
  },
  {
   "cell_type": "markdown",
   "metadata": {},
   "source": [
    "#### 87. Consider a 16x16 array, how to get the block-sum (block size is 4x4)? (★★★)"
   ]
  },
  {
   "cell_type": "code",
   "execution_count": null,
   "metadata": {},
   "outputs": [],
   "source": []
  },
  {
   "cell_type": "markdown",
   "metadata": {},
   "source": [
    "#### 88. How to implement the Game of Life using numpy arrays? (★★★)"
   ]
  },
  {
   "cell_type": "code",
   "execution_count": null,
   "metadata": {},
   "outputs": [],
   "source": []
  },
  {
   "cell_type": "markdown",
   "metadata": {},
   "source": [
    "#### 89. How to get the n largest values of an array (★★★)"
   ]
  },
  {
   "cell_type": "code",
   "execution_count": null,
   "metadata": {},
   "outputs": [],
   "source": []
  },
  {
   "cell_type": "markdown",
   "metadata": {},
   "source": [
    "#### 90. Given an arbitrary number of vectors, build the cartesian product (every combinations of every item) (★★★)"
   ]
  },
  {
   "cell_type": "code",
   "execution_count": null,
   "metadata": {
    "scrolled": true
   },
   "outputs": [],
   "source": []
  },
  {
   "cell_type": "markdown",
   "metadata": {},
   "source": [
    "#### 91. How to create a record array from a regular array? (★★★)"
   ]
  },
  {
   "cell_type": "code",
   "execution_count": null,
   "metadata": {},
   "outputs": [],
   "source": []
  },
  {
   "cell_type": "markdown",
   "metadata": {},
   "source": [
    "#### 92. Consider a large vector Z, compute Z to the power of 3 using 3 different methods (★★★)"
   ]
  },
  {
   "cell_type": "code",
   "execution_count": null,
   "metadata": {},
   "outputs": [],
   "source": []
  },
  {
   "cell_type": "markdown",
   "metadata": {},
   "source": [
    "#### 93. Consider two arrays A and B of shape (8,3) and (2,2). How to find rows of A that contain elements of each row of B regardless of the order of the elements in B? (★★★)"
   ]
  },
  {
   "cell_type": "code",
   "execution_count": null,
   "metadata": {},
   "outputs": [],
   "source": []
  },
  {
   "cell_type": "markdown",
   "metadata": {},
   "source": [
    "#### 94. Considering a 10x3 matrix, extract rows with unequal values (e.g. \\[2,2,3\\]) (★★★)"
   ]
  },
  {
   "cell_type": "code",
   "execution_count": null,
   "metadata": {},
   "outputs": [],
   "source": []
  },
  {
   "cell_type": "markdown",
   "metadata": {},
   "source": [
    "#### 95. Convert a vector of ints into a matrix binary representation (★★★)"
   ]
  },
  {
   "cell_type": "code",
   "execution_count": null,
   "metadata": {},
   "outputs": [],
   "source": []
  },
  {
   "cell_type": "markdown",
   "metadata": {},
   "source": [
    "#### 96. Given a two dimensional array, how to extract unique rows? (★★★)"
   ]
  },
  {
   "cell_type": "code",
   "execution_count": null,
   "metadata": {},
   "outputs": [],
   "source": []
  },
  {
   "cell_type": "markdown",
   "metadata": {},
   "source": [
    "#### 97. Considering 2 vectors A & B, write the einsum equivalent of inner, outer, sum, and mul function (★★★)"
   ]
  },
  {
   "cell_type": "code",
   "execution_count": null,
   "metadata": {},
   "outputs": [],
   "source": []
  },
  {
   "cell_type": "markdown",
   "metadata": {},
   "source": [
    "#### 98. Considering a path described by two vectors (X,Y), how to sample it using equidistant samples (★★★)?"
   ]
  },
  {
   "cell_type": "code",
   "execution_count": null,
   "metadata": {
    "collapsed": true
   },
   "outputs": [],
   "source": []
  },
  {
   "cell_type": "markdown",
   "metadata": {},
   "source": [
    "#### 99. Given an integer n and a 2D array X, select from X the rows which can be interpreted as draws from a multinomial distribution with n degrees, i.e., the rows which only contain integers and which sum to n. (★★★)"
   ]
  },
  {
   "cell_type": "code",
   "execution_count": null,
   "metadata": {},
   "outputs": [],
   "source": []
  },
  {
   "cell_type": "markdown",
   "metadata": {},
   "source": [
    "#### 100. Compute bootstrapped 95% confidence intervals for the mean of a 1D array X (i.e., resample the elements of an array with replacement N times, compute the mean of each sample, and then compute percentiles over the means). (★★★)"
   ]
  },
  {
   "cell_type": "code",
   "execution_count": null,
   "metadata": {},
   "outputs": [],
   "source": []
  }
 ],
 "metadata": {
  "kernelspec": {
   "display_name": "Python 3",
   "language": "python",
   "name": "python3"
  },
  "language_info": {
   "codemirror_mode": {
    "name": "ipython",
    "version": 3
   },
   "file_extension": ".py",
   "mimetype": "text/x-python",
   "name": "python",
   "nbconvert_exporter": "python",
   "pygments_lexer": "ipython3",
   "version": "3.7.3"
  }
 },
 "nbformat": 4,
 "nbformat_minor": 1
}
